{
 "cells": [
  {
   "cell_type": "code",
   "execution_count": 117,
   "metadata": {},
   "outputs": [],
   "source": [
    "def weird_function(mat, num):\n",
    "    total_sum = 0\n",
    "    length = len(mat)\n",
    "    col_sum = [0]*length\n",
    "    \n",
    "    loop_counter = 0\n",
    "    \n",
    "    # for each row\n",
    "    for row_num, row in enumerate(mat):\n",
    "        if sum(row) == num:\n",
    "            # sum of rows\n",
    "            total_sum = total_sum + row_num + 1 \n",
    "        # within each row, add each column item to the sum of columns list\n",
    "        for col_num in range(length):\n",
    "            col_sum[col_num] += row[col_num]\n",
    "            \n",
    "            loop_counter+= 1\n",
    "            \n",
    "    # if any columns add to num, add that column number to total_sum   \n",
    "    for col_num in range(length):\n",
    "        loop_counter+= 1\n",
    "        if col_sum[col_num] == num:\n",
    "            total_sum = total_sum + col_num + 1 \n",
    "            \n",
    "    return total_sum, loop_counter\n",
    "        \n"
   ]
  },
  {
   "cell_type": "code",
   "execution_count": 118,
   "metadata": {},
   "outputs": [],
   "source": [
    "mat1 = [[5,5,0],[3,4,1],[7,2,1]] # 4\n",
    "mat2 = [[4,3,1],[5,4,1],[1,2,8]] # 6\n",
    "mat3 = [[5,5,0],[5,5,0],[0,0,10]] # 12\n",
    "\n",
    "num = 10"
   ]
  },
  {
   "cell_type": "code",
   "execution_count": 119,
   "metadata": {
    "scrolled": true
   },
   "outputs": [
    {
     "name": "stdout",
     "output_type": "stream",
     "text": [
      "((4, 12), (6, 12), (12, 12))\n"
     ]
    }
   ],
   "source": [
    "print((weird_function(mat1, num),weird_function(mat2, num),weird_function(mat3, num)))\n"
   ]
  },
  {
   "cell_type": "code",
   "execution_count": null,
   "metadata": {},
   "outputs": [],
   "source": [
    "        "
   ]
  },
  {
   "cell_type": "code",
   "execution_count": null,
   "metadata": {
    "scrolled": true
   },
   "outputs": [],
   "source": []
  },
  {
   "cell_type": "code",
   "execution_count": null,
   "metadata": {},
   "outputs": [],
   "source": []
  },
  {
   "cell_type": "code",
   "execution_count": null,
   "metadata": {},
   "outputs": [],
   "source": []
  }
 ],
 "metadata": {
  "kernelspec": {
   "display_name": "Python 3",
   "language": "python",
   "name": "python3"
  },
  "language_info": {
   "codemirror_mode": {
    "name": "ipython",
    "version": 3
   },
   "file_extension": ".py",
   "mimetype": "text/x-python",
   "name": "python",
   "nbconvert_exporter": "python",
   "pygments_lexer": "ipython3",
   "version": "3.7.7"
  }
 },
 "nbformat": 4,
 "nbformat_minor": 4
}
